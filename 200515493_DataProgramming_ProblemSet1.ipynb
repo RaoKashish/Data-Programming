{
 "cells": [
  {
   "cell_type": "code",
   "execution_count": 1,
   "id": "74ae1535",
   "metadata": {},
   "outputs": [],
   "source": [
    "# Question 6\n",
    "vowels = ['a','e','i','o','u']\n",
    "def pig(str):\n",
    "    if str[0].lower() in vowels:\n",
    "        print(str.lower() + 'way')\n",
    "    else:\n",
    "        First_Letter = str[0]\n",
    "        print(str[1:].lower()+First_Letter.lower()+'ay')"
   ]
  },
  {
   "cell_type": "code",
   "execution_count": 2,
   "id": "2ed36659",
   "metadata": {},
   "outputs": [
    {
     "name": "stdout",
     "output_type": "stream",
     "text": [
      "appyhay\n"
     ]
    }
   ],
   "source": [
    "pig('happy')"
   ]
  },
  {
   "cell_type": "code",
   "execution_count": 3,
   "id": "ad7011d8",
   "metadata": {},
   "outputs": [
    {
     "name": "stdout",
     "output_type": "stream",
     "text": [
      "enterway\n"
     ]
    }
   ],
   "source": [
    "pig('Enter')"
   ]
  },
  {
   "cell_type": "code",
   "execution_count": null,
   "id": "920feac2",
   "metadata": {},
   "outputs": [],
   "source": [
    "# Question 7\n",
    "def bldcount2(file):\n",
    "    dict={}\n",
    "    infile = open(file, 'r')\n",
    "    content = infile.read() \n",
    "    infile.close()\n",
    "    wordList = content.split() \n",
    "    for word in wordList:\n",
    "        if word in dict:\n",
    "            dict[word] += 1\n",
    "        else:\n",
    "            dict[word] = 1\n",
    "    for word in dict:\n",
    "        if dict[word] == 1:\n",
    "            print ('There are {:2} patients with blood type {}'.format (dict[word],word))\n",
    "        else:\n",
    "             print ('There are {:2} patients with blood type {}'.format (dict[word],word))\n",
    "            \n",
    "bldcount2('\"C:\\Users\\29IN\\OneDrive\\Desktop\\bloodtype.txt\"')"
   ]
  },
  {
   "cell_type": "code",
   "execution_count": 6,
   "id": "3cd58b20",
   "metadata": {},
   "outputs": [
    {
     "name": "stdout",
     "output_type": "stream",
     "text": [
      "Select the currency which you would like to convert:\n",
      "A : Austrlian Dollar (Exchange_Rate: 1.0345157)\n",
      "B : British Pound (Exchange_Rate: 1.5550989)\n",
      "S : Singapore Dollar (Exchange_Rate: 0.788871)\n",
      "Ext : Exit \n",
      "Enter your option: S\n",
      "Enter the amount: 81017\n",
      "81017 equals to 56711.899999999994 USD\n",
      "56711.899999999994\n"
     ]
    }
   ],
   "source": [
    "# Question 8\n",
    "print(\"Select the currency which you would like to convert:\")\n",
    "print(\"A : Austrlian Dollar (Exchange_Rate: 1.0345157)\")\n",
    "print(\"B : British Pound (Exchange_Rate: 1.5550989)\")\n",
    "print(\"S : Singapore Dollar (Exchange_Rate: 0.788871)\")\n",
    "print(\"Ext : Exit \")\n",
    "A = 0\n",
    "B = 0\n",
    "S = 0\n",
    "Ext = 0\n",
    "aud = 1\n",
    "gbp = 1\n",
    "sgd = 1\n",
    "def main():\n",
    "    (Op, Amt, TotalAmt) = Input()  \n",
    "    print(TotalAmt)  \n",
    "def Input():\n",
    "    Op = input(\"Enter your option: \")\n",
    "    Amt = eval(input(\"Enter the amount: \"))\n",
    "    TotalAmt = 0 \n",
    "    if Op == \"A\":\n",
    "        TotalAmt = (Amt * 0.62)\n",
    "        print (str(Amt) +\" equals to \" +str(TotalAmt) +\" USD\")\n",
    "    elif Op == \"B\":\n",
    "        TotalAmt = (Amt * 1.12)\n",
    "        print (\"{} equals to {} USD\".format(Amt, TotalAmt))\n",
    "    elif Op == \"S\":\n",
    "        TotalAmt = (Amt * 0.70)\n",
    "        print (\"{} equals to {} USD\".format(Amt, TotalAmt))\n",
    "    else:\n",
    "        quit\n",
    "    return Op, Amt, TotalAmt\n",
    "main()"
   ]
  },
  {
   "cell_type": "code",
   "execution_count": null,
   "id": "be7b32c6",
   "metadata": {},
   "outputs": [],
   "source": [
    "# Question 9\n",
    "1. Trying to add incompatible variables, as in\n",
    "adding 6 + 'a'\n",
    "TypeError: unsupported operand type(s) for +: 'int' and 'str'\n",
    "2. Referring to the 12th item of a list that has only 10\n",
    "items\n",
    "IndexError: list index out of range\n",
    "3. Using a value that is out of range for a function’s\n",
    "input, such as calling math.sqrt(-1.0)\n",
    "NameError: name 'math' is not defined\n",
    "4. Using an undeclared variable, such as print(x)\n",
    "when x has not been defined \n",
    "NameError: name 'x' is not defined\n",
    "5. Trying to open a file that does not exist, such as\n",
    "mistyping the file name or looking in the wrong\n",
    "directory. \n",
    "FileNotFoundError: [Errno 2] No such file or directory"
   ]
  },
  {
   "cell_type": "code",
   "execution_count": 7,
   "id": "327c07d7",
   "metadata": {},
   "outputs": [],
   "source": [
    "# Question 10\n",
    "def frequencies(str):\n",
    "    Alphabets = ('a','b','c','d','e','f','g','h','i','j','k','l','m','n','o','p','q','r','s','t','u','v','w','x','y','z')\n",
    "    Total_Chars = []\n",
    "    Alpha_Dict = {}\n",
    "    for word in str:\n",
    "        for char in word:\n",
    "            if char.isalpha():\n",
    "                Total_Chars.append(char)\n",
    "    for char in Alphabets:\n",
    "        if char in Total_Chars:\n",
    "            Alpha_Dict[char] = Total_Chars.count(char)\n",
    "        else:\n",
    "            Alpha_Dict[char] = 0\n",
    "    print(list(Alpha_Dict.values()))"
   ]
  },
  {
   "cell_type": "code",
   "execution_count": 8,
   "id": "9255ba3e",
   "metadata": {},
   "outputs": [
    {
     "name": "stdout",
     "output_type": "stream",
     "text": [
      "[1, 1, 1, 3, 5, 1, 1, 2, 1, 0, 1, 0, 1, 2, 4, 0, 1, 2, 0, 2, 1, 0, 1, 1, 0, 0]\n"
     ]
    }
   ],
   "source": [
    "frequencies('The quick red fox got bored and went home.')"
   ]
  },
  {
   "cell_type": "code",
   "execution_count": 9,
   "id": "b9513fcd",
   "metadata": {},
   "outputs": [
    {
     "name": "stdout",
     "output_type": "stream",
     "text": [
      "[1, 0, 0, 0, 1, 0, 0, 0, 0, 0, 0, 1, 0, 0, 0, 2, 0, 0, 0, 0, 0, 0, 0, 0, 0, 0]\n"
     ]
    }
   ],
   "source": [
    "frequencies('apple')"
   ]
  }
 ],
 "metadata": {
  "kernelspec": {
   "display_name": "Python 3 (ipykernel)",
   "language": "python",
   "name": "python3"
  },
  "language_info": {
   "codemirror_mode": {
    "name": "ipython",
    "version": 3
   },
   "file_extension": ".py",
   "mimetype": "text/x-python",
   "name": "python",
   "nbconvert_exporter": "python",
   "pygments_lexer": "ipython3",
   "version": "3.9.12"
  }
 },
 "nbformat": 4,
 "nbformat_minor": 5
}
